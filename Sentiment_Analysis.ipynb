# Install Hugging Face Transformers (if not already installed)
# pip install transformers torch

from transformers import pipeline

# Load a sentiment-analysis pipeline (it uses a pre-trained model under the hood)
classifier = pipeline("text-classification")

# Example texts
texts = [
    "I love this new phone! The camera quality is amazing.",
    "This restaurant was terrible. I will never come back.",
]

# Run classification
results = classifier(texts)

# Show results
for text, result in zip(texts, results):
    print(f"Text: {text}")
    print(f"Label: {result['label']}, Score: {result['score']:.4f}")
    print("-" * 50)
